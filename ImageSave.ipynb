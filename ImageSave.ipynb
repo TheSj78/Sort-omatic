{
 "cells": [
  {
   "cell_type": "code",
   "execution_count": 1,
   "id": "37081af1",
   "metadata": {},
   "outputs": [],
   "source": [
    "import cv2\n",
    "import time\n",
    "from IPython.display import clear_output"
   ]
  },
  {
   "cell_type": "code",
   "execution_count": 2,
   "id": "1d3551ab",
   "metadata": {},
   "outputs": [],
   "source": [
    "labels = ['Wall', 'Trash', 'Recycle', 'Compost']"
   ]
  },
  {
   "cell_type": "code",
   "execution_count": 6,
   "id": "c3775cab",
   "metadata": {},
   "outputs": [
    {
     "ename": "IndexError",
     "evalue": "list index out of range",
     "output_type": "error",
     "traceback": [
      "\u001b[0;31m---------------------------------------------------------------------------\u001b[0m",
      "\u001b[0;31mIndexError\u001b[0m                                Traceback (most recent call last)",
      "Input \u001b[0;32mIn [6]\u001b[0m, in \u001b[0;36m<cell line: 9>\u001b[0;34m()\u001b[0m\n\u001b[1;32m     15\u001b[0m     labelInd \u001b[38;5;241m+\u001b[39m\u001b[38;5;241m=\u001b[39m \u001b[38;5;241m1\u001b[39m\n\u001b[1;32m     16\u001b[0m     clear_output(wait\u001b[38;5;241m=\u001b[39m\u001b[38;5;28;01mTrue\u001b[39;00m)\n\u001b[0;32m---> 17\u001b[0m     \u001b[38;5;28mprint\u001b[39m(\u001b[38;5;124mf\u001b[39m\u001b[38;5;124m'\u001b[39m\u001b[38;5;124mLooking for \u001b[39m\u001b[38;5;132;01m{\u001b[39;00mlabels[labelInd]\u001b[38;5;132;01m}\u001b[39;00m\u001b[38;5;124m'\u001b[39m)\n\u001b[1;32m     18\u001b[0m \u001b[38;5;28;01melse\u001b[39;00m:\n\u001b[1;32m     19\u001b[0m     filename \u001b[38;5;241m=\u001b[39m \u001b[38;5;124mf\u001b[39m\u001b[38;5;124m'\u001b[39m\u001b[38;5;124mimages/\u001b[39m\u001b[38;5;132;01m{\u001b[39;00mlabels[labelInd]\u001b[38;5;132;01m}\u001b[39;00m\u001b[38;5;124m-\u001b[39m\u001b[38;5;132;01m{\u001b[39;00mcount\u001b[38;5;132;01m}\u001b[39;00m\u001b[38;5;124m.png\u001b[39m\u001b[38;5;124m'\u001b[39m\n",
      "\u001b[0;31mIndexError\u001b[0m: list index out of range"
     ]
    }
   ],
   "source": [
    "vid = cv2.VideoCapture(2)\n",
    "\n",
    "labelInd = 0\n",
    "to_save = 1000\n",
    "count = 1\n",
    "print(f'Looking for {labels[labelInd]}')\n",
    "\n",
    "time.sleep(5)\n",
    "while labelInd < len(labels):\n",
    "    ret, frame = vid.read()\n",
    "    cv2.imshow('Saving Images', frame)\n",
    "    if count > to_save and labelInd < len(labels):\n",
    "        time.sleep(5)\n",
    "        count = 1\n",
    "        labelInd += 1\n",
    "        clear_output(wait=True)\n",
    "        print(f'Looking for {labels[labelInd]}')\n",
    "    else:\n",
    "        filename = f'images/{labels[labelInd]}-{count}.png'\n",
    "        cv2.imwrite(filename, frame)\n",
    "        clear_output(wait=True)\n",
    "        print(f'Saved to {filename} ({count}/{to_save})')\n",
    "        count += 1\n",
    "    \n",
    "    if cv2.waitKey(1) & 0xFF == ord('q'):\n",
    "        break\n",
    "\n",
    "print('Saved all Images')\n",
    "  \n",
    "vid.release()\n",
    "cv2.destroyAllWindows()"
   ]
  },
  {
   "cell_type": "code",
   "execution_count": 7,
   "id": "d4752825",
   "metadata": {},
   "outputs": [
    {
     "ename": "IndexError",
     "evalue": "list index out of range",
     "output_type": "error",
     "traceback": [
      "\u001b[0;31m---------------------------------------------------------------------------\u001b[0m",
      "\u001b[0;31mIndexError\u001b[0m                                Traceback (most recent call last)",
      "Input \u001b[0;32mIn [7]\u001b[0m, in \u001b[0;36m<cell line: 9>\u001b[0;34m()\u001b[0m\n\u001b[1;32m     15\u001b[0m     labelInd \u001b[38;5;241m+\u001b[39m\u001b[38;5;241m=\u001b[39m \u001b[38;5;241m1\u001b[39m\n\u001b[1;32m     16\u001b[0m     clear_output(wait\u001b[38;5;241m=\u001b[39m\u001b[38;5;28;01mTrue\u001b[39;00m)\n\u001b[0;32m---> 17\u001b[0m     \u001b[38;5;28mprint\u001b[39m(\u001b[38;5;124mf\u001b[39m\u001b[38;5;124m'\u001b[39m\u001b[38;5;124mLooking for \u001b[39m\u001b[38;5;132;01m{\u001b[39;00mlabels[labelInd]\u001b[38;5;132;01m}\u001b[39;00m\u001b[38;5;124m'\u001b[39m)\n\u001b[1;32m     18\u001b[0m \u001b[38;5;28;01melse\u001b[39;00m:\n\u001b[1;32m     19\u001b[0m     filename \u001b[38;5;241m=\u001b[39m \u001b[38;5;124mf\u001b[39m\u001b[38;5;124m'\u001b[39m\u001b[38;5;124mtest_images/\u001b[39m\u001b[38;5;132;01m{\u001b[39;00mlabels[labelInd]\u001b[38;5;132;01m}\u001b[39;00m\u001b[38;5;124m-\u001b[39m\u001b[38;5;132;01m{\u001b[39;00mcount\u001b[38;5;132;01m}\u001b[39;00m\u001b[38;5;124m.png\u001b[39m\u001b[38;5;124m'\u001b[39m\n",
      "\u001b[0;31mIndexError\u001b[0m: list index out of range"
     ]
    }
   ],
   "source": [
    "vid = cv2.VideoCapture(2)\n",
    "\n",
    "labelInd = 0\n",
    "to_save = 100\n",
    "count = 1\n",
    "print(f'Looking for {labels[labelInd]}')\n",
    "\n",
    "time.sleep(5)\n",
    "while labelInd < len(labels):\n",
    "    ret, frame = vid.read()\n",
    "    cv2.imshow('Saving Images', frame)\n",
    "    if count > to_save and labelInd < len(labels):\n",
    "        time.sleep(5)\n",
    "        count = 1\n",
    "        labelInd += 1\n",
    "        clear_output(wait=True)\n",
    "        print(f'Looking for {labels[labelInd]}')\n",
    "    else:\n",
    "        filename = f'test_images/{labels[labelInd]}-{count}.png'\n",
    "        cv2.imwrite(filename, frame)\n",
    "        clear_output(wait=True)\n",
    "        print(f'Saved to {filename} ({count}/{to_save})')\n",
    "        count += 1\n",
    "    \n",
    "    if cv2.waitKey(1) & 0xFF == ord('q'):\n",
    "        break\n",
    "\n",
    "print('Saved all Images')\n",
    "  \n",
    "vid.release()\n",
    "cv2.destroyAllWindows()"
   ]
  },
  {
   "cell_type": "code",
   "execution_count": 9,
   "id": "21f05bf7",
   "metadata": {},
   "outputs": [],
   "source": [
    "!ls RealTimeObjectDetection/Tensorflow/workspace/images/collectedimages"
   ]
  }
 ],
 "metadata": {
  "kernelspec": {
   "display_name": "Python [conda env:SongAi]",
   "language": "python",
   "name": "conda-env-SongAi-py"
  },
  "language_info": {
   "codemirror_mode": {
    "name": "ipython",
    "version": 3
   },
   "file_extension": ".py",
   "mimetype": "text/x-python",
   "name": "python",
   "nbconvert_exporter": "python",
   "pygments_lexer": "ipython3",
   "version": "3.10.4"
  }
 },
 "nbformat": 4,
 "nbformat_minor": 5
}
