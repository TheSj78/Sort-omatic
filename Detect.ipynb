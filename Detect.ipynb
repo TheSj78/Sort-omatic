{
 "cells": [
  {
   "cell_type": "code",
   "execution_count": 1,
   "id": "337c85fa",
   "metadata": {},
   "outputs": [],
   "source": [
    "import numpy as np\n",
    "from keras.models import load_model\n",
    "from PIL import Image\n",
    "import joblib\n",
    "import cv2\n",
    "from IPython.display import clear_output\n",
    "import matplotlib.pyplot as plt"
   ]
  },
  {
   "cell_type": "code",
   "execution_count": 2,
   "id": "fa43ad31",
   "metadata": {},
   "outputs": [],
   "source": [
    "import firebase_admin\n",
    "from firebase_admin import firestore\n",
    "from firebase_admin import credentials"
   ]
  },
  {
   "cell_type": "code",
   "execution_count": 3,
   "id": "98a44996",
   "metadata": {},
   "outputs": [],
   "source": [
    "cred = credentials.Certificate(\"ecohacks-522fa-firebase-adminsdk-uyybj-13c36d8578.json\")\n",
    "app = firebase_admin.initialize_app(cred)\n",
    "db = firestore.client()"
   ]
  },
  {
   "cell_type": "code",
   "execution_count": 4,
   "id": "216250e8",
   "metadata": {},
   "outputs": [],
   "source": [
    "def add_to_firestore(prediction):\n",
    "    doc_ref = db.collection('sample_accounts').document(u'OUR_ACCOUNT')\n",
    "    doc = doc_ref.get()\n",
    "    doc_dict = doc.to_dict()\n",
    "    if prediction == 'Trash':\n",
    "        doc_dict['trash_count'] += 1\n",
    "        doc_dict['points'] += 1\n",
    "    elif prediction == 'Recycle':\n",
    "        doc_dict['recycle_count'] += 1\n",
    "        doc_dict['points'] += 5\n",
    "    elif prediction == 'Compost':\n",
    "        doc_dict['compost_count'] += 1\n",
    "        doc_dict['points'] += 3\n",
    "    doc_ref.set(doc_dict)"
   ]
  },
  {
   "cell_type": "code",
   "execution_count": 5,
   "id": "2160a03f",
   "metadata": {},
   "outputs": [
    {
     "name": "stdout",
     "output_type": "stream",
     "text": [
      "Metal device set to: Apple M1 Pro\n"
     ]
    },
    {
     "name": "stderr",
     "output_type": "stream",
     "text": [
      "2022-09-04 16:08:30.635537: I tensorflow/core/common_runtime/pluggable_device/pluggable_device_factory.cc:305] Could not identify NUMA node of platform GPU ID 0, defaulting to 0. Your kernel may not have been built with NUMA support.\n",
      "2022-09-04 16:08:30.635654: I tensorflow/core/common_runtime/pluggable_device/pluggable_device_factory.cc:271] Created TensorFlow device (/job:localhost/replica:0/task:0/device:GPU:0 with 0 MB memory) -> physical PluggableDevice (device: 0, name: METAL, pci bus id: <undefined>)\n"
     ]
    }
   ],
   "source": [
    "model = load_model('model.h5')\n",
    "le = joblib.load('labelEncoder.joblib')\n",
    "font = cv2.FONT_HERSHEY_SIMPLEX"
   ]
  },
  {
   "cell_type": "code",
   "execution_count": 6,
   "id": "30972d8d",
   "metadata": {},
   "outputs": [],
   "source": [
    "def predict(img):\n",
    "    img = Image.fromarray(frame)\n",
    "    img = img.resize((128, 128))\n",
    "    img = np.array(img)\n",
    "    img = img[:,:,::-1]\n",
    "    plt.imshow(img)\n",
    "    pred = model.predict(np.array([img]), verbose=0)\n",
    "    pred_label = np.argmax(pred, axis=-1)\n",
    "    pred_class = le.inverse_transform(pred_label)\n",
    "    return pred_class[0], pred[0][pred_label][0]"
   ]
  },
  {
   "cell_type": "code",
   "execution_count": 7,
   "id": "8e5f91b1",
   "metadata": {},
   "outputs": [],
   "source": [
    "def get_color(pred):\n",
    "    if pred == 'Wall':\n",
    "        return (175, 175, 175)\n",
    "    elif pred == 'Trash':\n",
    "        return (0, 0, 200)\n",
    "    elif pred == 'Recycle':\n",
    "        return (0, 200, 0)\n",
    "    elif pred == 'Compost':\n",
    "        return (0,233,255)"
   ]
  },
  {
   "cell_type": "code",
   "execution_count": null,
   "id": "aa059bdc",
   "metadata": {},
   "outputs": [
    {
     "name": "stderr",
     "output_type": "stream",
     "text": [
      "2022-09-04 16:08:33.166891: W tensorflow/core/platform/profile_utils/cpu_utils.cc:128] Failed to get CPU frequency: 0 Hz\n",
      "2022-09-04 16:08:33.214632: I tensorflow/core/grappler/optimizers/custom_graph_optimizer_registry.cc:113] Plugin optimizer for device_type GPU is enabled.\n"
     ]
    },
    {
     "name": "stdout",
     "output_type": "stream",
     "text": [
      "Adding Trash to firebase\n",
      "Adding Recycle to firebase\n",
      "Adding Compost to firebase\n",
      "Adding Compost to firebase\n",
      "Adding Compost to firebase\n",
      "Adding Compost to firebase\n",
      "Adding Compost to firebase\n",
      "Adding Compost to firebase\n",
      "Adding Compost to firebase\n",
      "Adding Compost to firebase\n",
      "Adding Compost to firebase\n",
      "Adding Recycle to firebase\n",
      "Adding Wall to firebase\n",
      "Adding Trash to firebase\n",
      "Adding Recycle to firebase\n",
      "Adding Recycle to firebase\n",
      "Adding Recycle to firebase\n",
      "Adding Recycle to firebase\n",
      "Adding Compost to firebase\n",
      "Adding Trash to firebase\n",
      "Adding Recycle to firebase\n",
      "Adding Recycle to firebase\n",
      "Adding Recycle to firebase\n",
      "Adding Recycle to firebase\n",
      "Adding Recycle to firebase\n",
      "Adding Recycle to firebase\n",
      "Adding Recycle to firebase\n",
      "Adding Trash to firebase\n",
      "Adding Recycle to firebase\n",
      "Adding Compost to firebase\n"
     ]
    }
   ],
   "source": [
    "vid = cv2.VideoCapture(2)\n",
    "\n",
    "while(True):\n",
    "    ret, frame = vid.read()\n",
    "    frame_rgb = cv2.cvtColor(frame, cv2.COLOR_BGR2RGB)\n",
    "    pred, confidence = predict(frame_rgb)\n",
    "    color = get_color(pred)\n",
    "    cv2.rectangle(frame, (100, 10), (1000, 130), (0, 0, 0), -1)\n",
    "    cv2.putText(frame, f'{pred} ({round(confidence*100, 1)}%)', (100,100), font, 3, color, 2, cv2.LINE_AA)\n",
    "    cv2.imshow('Detector', frame)\n",
    "    \n",
    "    if cv2.waitKey(1) & 0xFF == ord('q'):\n",
    "        break\n",
    "    \n",
    "    if cv2.waitKey(1) & 0xFF == ord('p'):\n",
    "        print(f'Adding {pred} to firebase')\n",
    "        add_to_firestore(pred)\n",
    "        \n",
    "vid.release()\n",
    "cv2.destroyAllWindows()"
   ]
  },
  {
   "cell_type": "code",
   "execution_count": null,
   "id": "2c58b111",
   "metadata": {},
   "outputs": [],
   "source": []
  },
  {
   "cell_type": "code",
   "execution_count": null,
   "id": "a5e3d5ff",
   "metadata": {},
   "outputs": [],
   "source": []
  }
 ],
 "metadata": {
  "kernelspec": {
   "display_name": "Python [conda env:test] *",
   "language": "python",
   "name": "conda-env-test-py"
  },
  "language_info": {
   "codemirror_mode": {
    "name": "ipython",
    "version": 3
   },
   "file_extension": ".py",
   "mimetype": "text/x-python",
   "name": "python",
   "nbconvert_exporter": "python",
   "pygments_lexer": "ipython3",
   "version": "3.10.4"
  }
 },
 "nbformat": 4,
 "nbformat_minor": 5
}
